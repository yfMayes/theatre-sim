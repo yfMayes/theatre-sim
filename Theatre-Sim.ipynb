{
 "cells": [
  {
   "cell_type": "markdown",
   "metadata": {},
   "source": [
    "Jupyter notebook extending SimPy tutorial found at\n",
    "\n",
    "https://realpython.com/simpy-simulating-with-python/"
   ]
  },
  {
   "cell_type": "markdown",
   "metadata": {},
   "source": [
    "# 1.0 Introduction"
   ]
  },
  {
   "cell_type": "markdown",
   "metadata": {
    "heading_collapsed": true
   },
   "source": [
    "## 1.1 Credits, Sources, and Inspirations"
   ]
  },
  {
   "cell_type": "markdown",
   "metadata": {
    "hidden": true
   },
   "source": [
    "Tutorial\n",
    "\n",
    "https://realpython.com/simpy-simulating-with-python/"
   ]
  },
  {
   "cell_type": "markdown",
   "metadata": {},
   "source": [
    "## 1.2 Imports and Installs"
   ]
  },
  {
   "cell_type": "code",
   "execution_count": 1,
   "metadata": {},
   "outputs": [],
   "source": [
    "#import sys\n",
    "#!pip install simpy"
   ]
  },
  {
   "cell_type": "code",
   "execution_count": 2,
   "metadata": {},
   "outputs": [],
   "source": [
    "import simpy\n",
    "import random\n",
    "import statistics\n",
    "\n",
    "import pandas as pd\n",
    "import numpy"
   ]
  },
  {
   "cell_type": "markdown",
   "metadata": {},
   "source": [
    "# 2.0 Classes and Functions"
   ]
  },
  {
   "cell_type": "markdown",
   "metadata": {},
   "source": [
    "## 2.1 Theater Class"
   ]
  },
  {
   "cell_type": "code",
   "execution_count": 3,
   "metadata": {},
   "outputs": [],
   "source": [
    "class Theater(object):\n",
    "    def __init__(self, env, num_cashiers, num_servers, num_ushers):\n",
    "        self.env = env\n",
    "        self.cashier = simpy.Resource(env,num_cashiers)\n",
    "        self.server = simpy.Resource(env, num_servers)\n",
    "        self.usher = simpy.Resource(env, num_ushers)\n",
    "        \n",
    "    def purchase_ticket(self, moviegoer):\n",
    "        yield self.env.timeout(random.randint(1,3))\n",
    "        \n",
    "    def check_ticket(self, moviegoer):\n",
    "        #note that the units are 1 and it takes 3 seconds to check a ticket\n",
    "        yield self.env.timeout(3 / 60)\n",
    "        \n",
    "    def sell_food(self, moviegoer):\n",
    "        yield self.env.timeout(random.randint(1,5))"
   ]
  },
  {
   "cell_type": "markdown",
   "metadata": {},
   "source": [
    "## 2.2 Moviegoer functions"
   ]
  },
  {
   "cell_type": "code",
   "execution_count": 4,
   "metadata": {},
   "outputs": [],
   "source": [
    "def go_to_movies(env, moviegoer, theater):\n",
    "    #moviegoer arrives at the theater\n",
    "    arrival_time = env.now\n",
    "    \n",
    "    #using with tells simpy to release resource when done\n",
    "    with theater.cashier.request() as request:\n",
    "        yield request\n",
    "        yield env.process(theater.purchase_ticket(moviegoer))\n",
    "        \n",
    "    with theater.usher.request() as request:\n",
    "        yield request\n",
    "        yield env.process(theater.check_ticket(moviegoer))\n",
    "        \n",
    "    if random.choice([True, False]):\n",
    "        with theater.server.request() as request:\n",
    "            yield request\n",
    "            yield env.process(theater.sell_food(moviegoer))\n",
    "            \n",
    "    #moviegoer goes into theater. wait time is over\n",
    "    wait_times.append(env.now - arrival_time)"
   ]
  },
  {
   "cell_type": "markdown",
   "metadata": {},
   "source": [
    "## 2.3 Run the theater process"
   ]
  },
  {
   "cell_type": "code",
   "execution_count": 5,
   "metadata": {},
   "outputs": [],
   "source": [
    "def run_theater(env, num_cashier, num_servers, num_ushers):\n",
    "    theater = Theater(env, num_cashier, num_servers, num_ushers)\n",
    "    \n",
    "    #expect 3 people in line at box office open\n",
    "    for moviegoer in range(3):\n",
    "        env.process(go_to_movies(env, moviegoer, theater))\n",
    "        \n",
    "    while True:\n",
    "        yield env.timeout(0.20)  #wait 12 seconds\n",
    "        \n",
    "        moviegoer +=1\n",
    "        env.process(go_to_movies(env, moviegoer, theater))\n",
    "        "
   ]
  },
  {
   "cell_type": "markdown",
   "metadata": {},
   "source": [
    "## 2.4 Measurement functions"
   ]
  },
  {
   "cell_type": "code",
   "execution_count": 6,
   "metadata": {},
   "outputs": [],
   "source": [
    "def get_average_wait_time(wait_times):\n",
    "    return statistics.mean(wait_times)\n",
    "    "
   ]
  },
  {
   "cell_type": "markdown",
   "metadata": {},
   "source": [
    "## 2.5 Simulation function"
   ]
  },
  {
   "cell_type": "code",
   "execution_count": 7,
   "metadata": {},
   "outputs": [],
   "source": [
    "def run_sim(seed, num_cashiers, num_servers, num_ushers):\n",
    "    #setup \n",
    "    random.seed(seed)  \n",
    "    \n",
    "    #initialize the simpy environment\n",
    "    env = simpy.Environment()\n",
    "    env.process(run_theater(env, num_cashiers, num_servers, num_ushers))\n",
    "    \n",
    "    #run for 120 simulated minutes  (make a parameter later)\n",
    "    env.run(until=90)\n",
    "    \n",
    "    print(wait_times)\n",
    "    #return the results\n",
    "    return get_average_wait_time(wait_times)"
   ]
  },
  {
   "cell_type": "markdown",
   "metadata": {},
   "source": [
    "# 3.0 Run the simulation"
   ]
  },
  {
   "cell_type": "markdown",
   "metadata": {},
   "source": [
    "At this level, we should explore the parameter space a bit. Since it is not a huge parameter space, some intelligently applied brute force should give us a lot of insight. To be \"intelligent\" the key is to think intuitively about the bottlenecks in the system.  Note individual process times:\n",
    "\n",
    "- purchase between 1 and 3 minutes\n",
    "- ticket validation 3 seconds \n",
    "- food selling .5 - 2.5 minutes \n",
    "- moviegoers arrive at the box office every 12 seconds (5 per minute)"
   ]
  },
  {
   "cell_type": "code",
   "execution_count": 8,
   "metadata": {},
   "outputs": [],
   "source": [
    "sim_results = []\n",
    "seed = 311  #i love douglas adams as much as the next nerd but...\n",
    "\n",
    "max_cashiers = 1\n",
    "max_servers = 1\n",
    "max_users = 1"
   ]
  },
  {
   "cell_type": "code",
   "execution_count": 9,
   "metadata": {
    "scrolled": true
   },
   "outputs": [
    {
     "name": "stdout",
     "output_type": "stream",
     "text": [
      "[6.05, 9.65, 11.05, 14.05, 13.25, 16.85, 16.85, 18.650000000000002, 21.45, 24.05, 27.45, 26.650000000000002, 30.249999999999996, 32.05, 36.849999999999994, 39.449999999999996, 40.24999999999999, 44.25, 49.05, 49.849999999999994, 48.24999999999999, 54.65, 55.64999999999999, 59.449999999999996, 62.05, 61.24999999999999, 62.05, 64.85, 65.64999999999999, 63.849999999999994, 67.44999999999999, 65.64999999999999, 69.05, 69.85, 72.44999999999999, 71.25, 72.44999999999999, 77.05, 78.44999999999999, 79.85, 80.25, 81.64999999999999, 81.05]\n"
     ]
    }
   ],
   "source": [
    "for cashiers in range(1,max_cashiers+1):\n",
    "    for servers in range(1,max_servers+1):\n",
    "        for ushers in range(1,max_users+1):\n",
    "            \n",
    "            #(re-)initialize wait_times\n",
    "            #have to keep this as global for now\n",
    "            wait_times = []\n",
    "            \n",
    "            avg_wait = run_sim(seed, cashiers, servers, ushers)\n",
    "            this_result = (seed, cashiers, servers, ushers, avg_wait, len(wait_times))\n",
    "            sim_results.append(this_result)\n",
    " "
   ]
  },
  {
   "cell_type": "code",
   "execution_count": 10,
   "metadata": {},
   "outputs": [
    {
     "data": {
      "text/html": [
       "<div>\n",
       "<style scoped>\n",
       "    .dataframe tbody tr th:only-of-type {\n",
       "        vertical-align: middle;\n",
       "    }\n",
       "\n",
       "    .dataframe tbody tr th {\n",
       "        vertical-align: top;\n",
       "    }\n",
       "\n",
       "    .dataframe thead th {\n",
       "        text-align: right;\n",
       "    }\n",
       "</style>\n",
       "<table border=\"1\" class=\"dataframe\">\n",
       "  <thead>\n",
       "    <tr style=\"text-align: right;\">\n",
       "      <th></th>\n",
       "      <th>seed</th>\n",
       "      <th>cashiers</th>\n",
       "      <th>servers</th>\n",
       "      <th>ushers</th>\n",
       "      <th>avg_wait</th>\n",
       "      <th>num_customers</th>\n",
       "    </tr>\n",
       "  </thead>\n",
       "  <tbody>\n",
       "    <tr>\n",
       "      <th>0</th>\n",
       "      <td>311</td>\n",
       "      <td>1</td>\n",
       "      <td>1</td>\n",
       "      <td>1</td>\n",
       "      <td>48.654651</td>\n",
       "      <td>43</td>\n",
       "    </tr>\n",
       "  </tbody>\n",
       "</table>\n",
       "</div>"
      ],
      "text/plain": [
       "   seed  cashiers  servers  ushers   avg_wait  num_customers\n",
       "0   311         1        1       1  48.654651             43"
      ]
     },
     "execution_count": 10,
     "metadata": {},
     "output_type": "execute_result"
    }
   ],
   "source": [
    "#dump results into a dataframe\n",
    "cols = ['seed', 'cashiers', 'servers', 'ushers', 'avg_wait', 'num_customers']\n",
    "\n",
    "sim_results_df = pd.DataFrame(sim_results, columns=cols)\n",
    "\n",
    "sim_results_df.tail()"
   ]
  },
  {
   "cell_type": "markdown",
   "metadata": {},
   "source": [
    "# 4.0 Analyze the results"
   ]
  },
  {
   "cell_type": "code",
   "execution_count": 11,
   "metadata": {},
   "outputs": [
    {
     "data": {
      "text/html": [
       "<div>\n",
       "<style scoped>\n",
       "    .dataframe tbody tr th:only-of-type {\n",
       "        vertical-align: middle;\n",
       "    }\n",
       "\n",
       "    .dataframe tbody tr th {\n",
       "        vertical-align: top;\n",
       "    }\n",
       "\n",
       "    .dataframe thead th {\n",
       "        text-align: right;\n",
       "    }\n",
       "</style>\n",
       "<table border=\"1\" class=\"dataframe\">\n",
       "  <thead>\n",
       "    <tr style=\"text-align: right;\">\n",
       "      <th></th>\n",
       "      <th>seed</th>\n",
       "      <th>cashiers</th>\n",
       "      <th>servers</th>\n",
       "      <th>ushers</th>\n",
       "      <th>avg_wait</th>\n",
       "      <th>num_customers</th>\n",
       "    </tr>\n",
       "  </thead>\n",
       "  <tbody>\n",
       "    <tr>\n",
       "      <th>0</th>\n",
       "      <td>311</td>\n",
       "      <td>1</td>\n",
       "      <td>1</td>\n",
       "      <td>1</td>\n",
       "      <td>48.654651</td>\n",
       "      <td>43</td>\n",
       "    </tr>\n",
       "  </tbody>\n",
       "</table>\n",
       "</div>"
      ],
      "text/plain": [
       "   seed  cashiers  servers  ushers   avg_wait  num_customers\n",
       "0   311         1        1       1  48.654651             43"
      ]
     },
     "execution_count": 11,
     "metadata": {},
     "output_type": "execute_result"
    }
   ],
   "source": [
    "sim_results_df.head()"
   ]
  },
  {
   "cell_type": "code",
   "execution_count": null,
   "metadata": {},
   "outputs": [],
   "source": []
  }
 ],
 "metadata": {
  "kernelspec": {
   "display_name": "Python 3",
   "language": "python",
   "name": "python3"
  },
  "language_info": {
   "codemirror_mode": {
    "name": "ipython",
    "version": 3
   },
   "file_extension": ".py",
   "mimetype": "text/x-python",
   "name": "python",
   "nbconvert_exporter": "python",
   "pygments_lexer": "ipython3",
   "version": "3.7.4"
  }
 },
 "nbformat": 4,
 "nbformat_minor": 4
}
